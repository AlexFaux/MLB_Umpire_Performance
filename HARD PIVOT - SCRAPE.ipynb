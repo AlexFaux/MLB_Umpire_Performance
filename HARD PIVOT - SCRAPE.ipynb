{
 "cells": [
  {
   "cell_type": "code",
   "execution_count": null,
   "metadata": {},
   "outputs": [],
   "source": [
    "from bs4 import BeautifulSoup as bs\n",
    "import numpy as np\n",
    "import pandas as pd\n",
    "import re\n",
    "import requests\n",
    "import time\n",
    "\n",
    "pd.set_option('display.max_columns', None)"
   ]
  },
  {
   "cell_type": "code",
   "execution_count": null,
   "metadata": {},
   "outputs": [],
   "source": [
    "ump_scores_df = pd.read_csv('D:\\Downloads\\games (1).csv')\n",
    "\n",
    "##drop nulls, shortened season\n",
    "ump_scores_df = ump_scores_df.dropna(axis='index').sort_values('Date')\n",
    "ump_scores_df = ump_scores_df.set_axis(['date', 'umpire', 'home', 'away', 'home_score', 'away_score', 'called_pitches', 'called_wrong', 'accuracy', 'consistency', 'favor', 'total_run_impact'], axis=1)\n",
    "covid_2020 = ump_scores_df.date.str.contains('2020')\n",
    "ump_scores_df = ump_scores_df[~covid_2020].reset_index(drop=True)\n",
    "\n",
    "##clean for scraping\n",
    "ump_scores_df.date = ump_scores_df.date.str.replace('-', '')\n",
    "ump_scores_df.loc[ump_scores_df.home == 'WSH', 'home'] = 'WAS'\n",
    "ump_scores_df.loc[ump_scores_df.home == 'LAD', 'home'] = 'LAN'\n",
    "ump_scores_df.loc[ump_scores_df.home == 'SD', 'home'] = 'SDN'\n",
    "ump_scores_df.loc[ump_scores_df.home == 'SF', 'home'] = 'SFN'\n",
    "ump_scores_df.loc[ump_scores_df.home == 'NYY', 'home'] = 'NYA'\n",
    "ump_scores_df.loc[ump_scores_df.home == 'KC', 'home'] = 'KCA'\n",
    "ump_scores_df.loc[ump_scores_df.home == 'STL', 'home'] = 'SLN'\n",
    "ump_scores_df.loc[ump_scores_df.home == 'NYM', 'home'] = 'NYN'\n",
    "ump_scores_df.loc[ump_scores_df.home == 'TB', 'home'] = 'TBA'\n",
    "ump_scores_df.loc[ump_scores_df.home == 'CWS', 'home'] = 'CHA'\n",
    "ump_scores_df.loc[ump_scores_df.home == 'CHC', 'home'] = 'CHN'\n",
    "display(ump_scores_df)\n",
    "\n",
    "ump_scores_df.groupby('date')['home_score']"
   ]
  },
  {
   "cell_type": "code",
   "execution_count": null,
   "metadata": {},
   "outputs": [],
   "source": [
    "##webscrape to pull start_time, attendance, duration, day_night\n",
    "url = 'https://www.baseball-reference.com/boxes/'\n",
    "\n",
    "scorebox = []\n",
    "start_time = []\n",
    "duration = []\n",
    "day_night = []\n",
    "for i, j in zip(ump_scores_df.date, ump_scores_df.home):\n",
    "    response = requests.get(url + j + '/' + j + i + '0.shtml')\n",
    "    soup = bs(response.text, 'html.parser')\n",
    "    print(j)\n",
    "    print(i)\n",
    "    print(response)\n",
    "    scorebox = soup.find_all('div', {'class':'scorebox_meta'})\n",
    "    start_time.append(scorebox)\n",
    "    duration.append(scorebox)\n",
    "    day_night.append(scorebox)\n",
    "    time.sleep(3)\n",
    "\n",
    "##estimated time to run: ~11 hours\n",
    "##started: 10:34 AM EDT\n",
    "##ended: 11:12 PM EDT"
   ]
  },
  {
   "cell_type": "code",
   "execution_count": null,
   "metadata": {},
   "outputs": [],
   "source": [
    "##save lists to dataframe then export as csv to be used elsewhere\n",
    "start_time_df = pd.DataFrame(start_time)\n",
    "duration_df = pd.DataFrame(duration)\n",
    "day_night_df = pd.DataFrame(day_night)\n",
    "start_time_df.to_csv('start_time_df.csv')\n",
    "duration_df.to_csv('duration_df.csv')\n",
    "day_night_df.to_csv('day_night_df.csv')"
   ]
  }
 ],
 "metadata": {
  "interpreter": {
   "hash": "f5ad2cfef2395469aef3fbf967dad19ad5416ee0053bf8e1f8a74cfc8f8707fe"
  },
  "kernelspec": {
   "display_name": "Python 3.9.7 ('base')",
   "language": "python",
   "name": "python3"
  },
  "language_info": {
   "codemirror_mode": {
    "name": "ipython",
    "version": 3
   },
   "file_extension": ".py",
   "mimetype": "text/x-python",
   "name": "python",
   "nbconvert_exporter": "python",
   "pygments_lexer": "ipython3",
   "version": "3.9.7"
  },
  "orig_nbformat": 4
 },
 "nbformat": 4,
 "nbformat_minor": 2
}
