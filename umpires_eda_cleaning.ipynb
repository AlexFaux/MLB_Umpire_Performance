{
 "cells": [
  {
   "cell_type": "code",
   "execution_count": null,
   "metadata": {},
   "outputs": [],
   "source": [
    "from bs4 import BeautifulSoup as bs\n",
    "import numpy as np\n",
    "import pandas as pd\n",
    "import re\n",
    "import requests\n",
    "import time\n",
    "\n",
    "pd.options.mode.chained_assignment = None  # default='warn'\n",
    "pd.set_option('display.max_columns', None)\n",
    "pd.set_option(\"max_colwidth\", None)"
   ]
  },
  {
   "cell_type": "code",
   "execution_count": null,
   "metadata": {},
   "outputs": [],
   "source": [
    "ump_scores_df = pd.read_csv('D:\\Downloads\\games (1).csv')\n",
    "\n",
    "##drop nulls, shortened season\n",
    "ump_scores_df = ump_scores_df.dropna(axis='index').sort_values('Date')\n",
    "ump_scores_df = ump_scores_df.set_axis(['date', 'umpire', 'home', 'away', 'home_score', 'away_score', 'called_pitches', 'called_wrong', 'accuracy', 'consistency', 'favor', 'total_run_impact'], axis=1)\n",
    "covid_2020 = ump_scores_df.date.str.contains('2020')\n",
    "ump_scores_df = ump_scores_df[~covid_2020].reset_index(drop=True)\n",
    "\n",
    "display(ump_scores_df)"
   ]
  },
  {
   "cell_type": "code",
   "execution_count": null,
   "metadata": {},
   "outputs": [],
   "source": [
    "##cleaning of weather data\n",
    "seattle_weather_df = pd.read_csv('D:\\Downloads\\\\weather_seattle_dome.csv')\n",
    "seattle_weather_df = seattle_weather_df[['DATE', 'HourlyPrecipitation', 'HourlyRelativeHumidity', 'HourlyWetBulbTemperature', 'HourlyWindSpeed']]\n",
    "seattle_weather_df = seattle_weather_df.dropna(axis='index').reset_index(drop=True)\n",
    "\n",
    "seattle_weather_df.HourlyPrecipitation = seattle_weather_df.HourlyPrecipitation.replace('T', '0.00').str.replace('s', '')\n",
    "seattle_weather_df"
   ]
  },
  {
   "cell_type": "code",
   "execution_count": null,
   "metadata": {},
   "outputs": [],
   "source": [
    "##bringing in scraped data\n",
    "day_night_df = pd.read_csv('Data\\\\day_night_df.csv').drop(columns='Unnamed: 0').set_axis(['day_night'], axis=1)\n",
    "start_time_df = pd.read_csv('Data\\\\start_time_df.csv').drop(columns='Unnamed: 0').set_axis(['start_time'], axis=1)\n",
    "duration_df = pd.read_csv('Data\\\\duration_df.csv').drop(columns='Unnamed: 0').set_axis(['duration'], axis=1)\n",
    "attendance_df = pd.read_csv('Data\\\\day_night_df.csv').drop(columns='Unnamed: 0').set_axis(['attendance'], axis=1)\n",
    "\n",
    "day_night_df.day_night = day_night_df.day_night.str.extract(r'((?<=\\d\\:\\d{2}</div><div>).*?(?=</div><div>))')\n",
    "start_time_df.start_time = start_time_df.start_time.str.extract(r'((?<=Time: ).*?(?= Local))')\n",
    "duration_df.duration = duration_df.duration.str.extract(r'((?<=n</strong>: ).*?(?=</div>))')\n",
    "attendance_df.attendance = attendance_df.attendance.str.extract(r'((?<=ce</strong>: ).*?(?=</div>))')"
   ]
  },
  {
   "cell_type": "code",
   "execution_count": null,
   "metadata": {},
   "outputs": [],
   "source": [
    "ump_scores_df['day_night'] = day_night_df.day_night\n",
    "ump_scores_df['start_time'] = start_time_df.start_time\n",
    "ump_scores_df['duration'] = duration_df.duration\n",
    "ump_scores_df['attendance'] = attendance_df.attendance\n",
    "ump_scores_df"
   ]
  },
  {
   "cell_type": "code",
   "execution_count": null,
   "metadata": {},
   "outputs": [],
   "source": [
    "scrape2_df = ump_scores_df.loc[ump_scores_df.start_time.isnull()]\n",
    "scrape2_df"
   ]
  },
  {
   "cell_type": "code",
   "execution_count": null,
   "metadata": {},
   "outputs": [],
   "source": [
    "##2nd scrape after fixing LAA 3-letter code to ANA\n",
    "scrape2_df.date = scrape2_df.date.str.replace('-', '')\n",
    "scrape2_df.loc[scrape2_df.home == 'LAA', 'home'] = 'ANA'\n",
    "url = 'https://www.baseball-reference.com/boxes/'\n",
    "\n",
    "scorebox = []\n",
    "start_time = []\n",
    "duration = []\n",
    "day_night = []\n",
    "for i, j in zip(scrape2_df.date, scrape2_df.home):\n",
    "    response = requests.get(url + j + '/' + j + i + '0.shtml')\n",
    "    soup = bs(response.text, 'html.parser')\n",
    "    print(j)\n",
    "    print(i)\n",
    "    print(response)\n",
    "    scorebox = soup.find_all('div', {'class':'scorebox_meta'})\n",
    "    start_time.append(scorebox)\n",
    "    duration.append(scorebox)\n",
    "    day_night.append(scorebox)\n",
    "    time.sleep(3)"
   ]
  },
  {
   "cell_type": "code",
   "execution_count": null,
   "metadata": {},
   "outputs": [],
   "source": [
    "##AFTER EACH SCRAPE RUN CODE TO REVERT CHANGES BEFORE .UPDATING INTO UMP_SCORES_DF\n",
    "##REMEMBER TO RUN REGEX TO GET VALUES BEFORE UPDATING IN\n",
    "##AFTER EACH SCRAPE RUN CODE TO REVERT CHANGES BEFORE .UPDATING INTO UMP_SCORES_DF"
   ]
  },
  {
   "cell_type": "code",
   "execution_count": null,
   "metadata": {},
   "outputs": [],
   "source": [
    "scrape2_df.loc[scrape2_df.home == 'ANA', 'home'] = 'LAA'\n",
    "\n",
    "date_list = []\n",
    "for i in scrape2_df.date:\n",
    "    date_list.append(i[:4] + '-' + i[4:6] + '-' + i[6:])\n",
    "\n",
    "scrape2_df.date = date_list"
   ]
  },
  {
   "cell_type": "code",
   "execution_count": null,
   "metadata": {},
   "outputs": [],
   "source": [
    "start_time_df = pd.DataFrame(start_time)\n",
    "duration_df = pd.DataFrame(duration)\n",
    "day_night_df = pd.DataFrame(day_night)\n",
    "\n",
    "n = 0\n",
    "if n == 0:\n",
    "    start_time_df.to_csv('start_time_df2.csv')\n",
    "    duration_df.to_csv('duration_df2.csv')\n",
    "    day_night_df.to_csv('day_night_df2.csv')\n",
    "    n += 1"
   ]
  },
  {
   "cell_type": "code",
   "execution_count": null,
   "metadata": {},
   "outputs": [],
   "source": [
    "day_night_df = pd.read_csv('Data\\\\day_night_df2.csv').drop(columns='Unnamed: 0').set_axis(['day_night'], axis=1).set_index(scrape2_df.index)\n",
    "start_time_df = pd.read_csv('Data\\\\start_time_df2.csv').drop(columns='Unnamed: 0').set_axis(['start_time'], axis=1).set_index(scrape2_df.index)\n",
    "duration_df = pd.read_csv('Data\\\\duration_df2.csv').drop(columns='Unnamed: 0').set_axis(['duration'], axis=1).set_index(scrape2_df.index)\n",
    "attendance_df = pd.read_csv('Data\\\\day_night_df2.csv').drop(columns='Unnamed: 0').set_axis(['attendance'], axis=1).set_index(scrape2_df.index)\n",
    "\n",
    "day_night_df.day_night = day_night_df.day_night.str.extract(r'((?<=\\d\\:\\d{2}</div><div>).*?(?=</div><div>))')\n",
    "start_time_df.start_time = start_time_df.start_time.str.extract(r'((?<=Time: ).*?(?= Local))')\n",
    "duration_df.duration = duration_df.duration.str.extract(r'((?<=n</strong>: ).*?(?=</div>))')\n",
    "attendance_df.attendance = attendance_df.attendance.str.extract(r'((?<=ce</strong>: ).*?(?=</div>))')\n",
    "\n",
    "scrape2_df['day_night'] = day_night_df.day_night\n",
    "scrape2_df['start_time'] = start_time_df.start_time\n",
    "scrape2_df['duration'] = duration_df.duration\n",
    "scrape2_df['attendance'] = attendance_df.attendance\n",
    "\n",
    "ump_scores_df.update(scrape2_df)\n",
    "ump_scores_df"
   ]
  },
  {
   "cell_type": "code",
   "execution_count": null,
   "metadata": {},
   "outputs": [],
   "source": [
    "scrape3_df = ump_scores_df.loc[ump_scores_df.start_time.isnull()]\n",
    "scrape3_df"
   ]
  },
  {
   "cell_type": "code",
   "execution_count": null,
   "metadata": {},
   "outputs": [],
   "source": [
    "covid_2020 = ump_scores_df.date.str.contains('2020')\n",
    "ump_scores_df = ump_scores_df[~covid_2020].reset_index(drop=True)\n",
    "\n",
    "filter_nulls = walmart_df.shop_name.isnull()\n",
    "walmart_df = walmart_df[~filter_nulls].reset_index(drop=True)"
   ]
  },
  {
   "cell_type": "code",
   "execution_count": null,
   "metadata": {},
   "outputs": [],
   "source": [
    "ump_scores_df.to_csv('ump_scores_df.csv')"
   ]
  }
 ],
 "metadata": {
  "interpreter": {
   "hash": "f5ad2cfef2395469aef3fbf967dad19ad5416ee0053bf8e1f8a74cfc8f8707fe"
  },
  "kernelspec": {
   "display_name": "Python 3.9.7 ('base')",
   "language": "python",
   "name": "python3"
  },
  "language_info": {
   "codemirror_mode": {
    "name": "ipython",
    "version": 3
   },
   "file_extension": ".py",
   "mimetype": "text/x-python",
   "name": "python",
   "nbconvert_exporter": "python",
   "pygments_lexer": "ipython3",
   "version": "3.9.7"
  },
  "orig_nbformat": 4
 },
 "nbformat": 4,
 "nbformat_minor": 2
}
